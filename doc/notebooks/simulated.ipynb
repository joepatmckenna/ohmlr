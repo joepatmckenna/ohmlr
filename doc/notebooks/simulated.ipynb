{
 "cells": [
  {
   "cell_type": "code",
   "execution_count": 346,
   "metadata": {},
   "outputs": [],
   "source": [
    "%matplotlib inline\n",
    "import ohmlr\n",
    "import numpy as np\n",
    "import matplotlib.pyplot as plt"
   ]
  },
  {
   "cell_type": "code",
   "execution_count": 348,
   "metadata": {},
   "outputs": [],
   "source": [
    "n_features = 16\n",
    "xmax_iter = 500\n",
    "x_classes = [np.arange(8) for _ in range(n_features)]\n",
    "y_classes = np.arange(3)\n",
    "n_x_classes = [len(x_class) for x_class in x_classes]\n",
    "n_y_classes = len(y_classes)\n",
    "n_par = np.sum(n_x_classes)*n_y_classes\n",
    "n_samples = n_par"
   ]
  },
  {
   "cell_type": "code",
   "execution_count": 349,
   "metadata": {},
   "outputs": [],
   "source": [
    "model = ohmlr.ohmlr.ohmlr(x_classes=x_classes, y_classes=y_classes, random_coeff=True)"
   ]
  },
  {
   "cell_type": "code",
   "execution_count": 350,
   "metadata": {},
   "outputs": [],
   "source": [
    "# fig = plt.figure(figsize=(4,4))\n",
    "# ax = plt.gca()\n",
    "# ax.hist([model.v, np.vstack(model.w).flatten()], label=['bias','weights'], density=True)\n",
    "# ax.set_xlabel('$v, w$')\n",
    "# ax.set_ylabel('density')\n",
    "# plt.legend()\n",
    "# plt.show()"
   ]
  },
  {
   "cell_type": "code",
   "execution_count": 351,
   "metadata": {},
   "outputs": [],
   "source": [
    "v, w = np.copy(model.v), np.copy(model.w)\n",
    "n_param = v.shape[0] + np.prod(w.shape)\n",
    "x, y = model.generate_data(n_samples=n_samples)"
   ]
  },
  {
   "cell_type": "code",
   "execution_count": 352,
   "metadata": {},
   "outputs": [],
   "source": [
    "# plt.plot(x[:,0])"
   ]
  },
  {
   "cell_type": "code",
   "execution_count": 353,
   "metadata": {},
   "outputs": [
    {
     "data": {
      "text/plain": [
       "[<matplotlib.lines.Line2D at 0x1323e9198>]"
      ]
     },
     "execution_count": 353,
     "metadata": {},
     "output_type": "execute_result"
    },
    {
     "data": {
      "image/png": "[encoded data removed]",
      "text/plain": [
       "<Figure size 288x576 with 4 Axes>"
      ]
     },
     "metadata": {
      "needs_background": "light"
     },
     "output_type": "display_data"
    }
   ],
   "source": [
    "model.fit(x, y, max_iter=1)\n",
    "mse = np.empty(max_iter)\n",
    "disc = np.empty(max_iter)\n",
    "for it in range(max_iter):\n",
    "    model.fit(x, y, max_iter=1, v_init=model.v, w_init=model.w)\n",
    "    mse[it] = (((v-model.v)**2).sum() + ((w-model.w)**2).sum()) / n_param\n",
    "    disc[it] = model.disc[0]\n",
    "\n",
    "model.fit(x, y, max_iter=max_iter)\n",
    "fig, ax = plt.subplots(4, 1, figsize=(4,8))\n",
    "ax[0].plot(mse, 'k-')\n",
    "ax[1].plot(model.disc, 'r-')\n",
    "ax[2].plot(model.ll, 'g-')\n",
    "ax[3].plot(model.err, 'b-')"
   ]
  },
  {
   "cell_type": "code",
   "execution_count": 354,
   "metadata": {},
   "outputs": [],
   "source": [
    "# print(model.score(x, y))\n",
    "\n",
    "# fig, ax = plt.subplots(1, 2, figsize=(8, 4))\n",
    "# ax[0].plot(mse, 'k-')\n",
    "# bx = ax[0].twinx()\n",
    "# bx.plot(model.disc, 'r-')\n",
    "\n",
    "# lo = min(v.min(), np.vstack(w).min())\n",
    "# hi = max(v.max(), np.vstack(w).max())\n",
    "# grid = np.linspace(lo, hi)\n",
    "# ax[1].plot(grid, grid, 'k--', alpha=0.5)\n",
    "# ax[1].scatter(model.v, v, c='r', s=10)\n",
    "# ax[1].scatter(np.vstack(model.w).flatten(), np.vstack(w).flatten(), c='b', s=1)\n",
    "# ax[0].set_xlabel('iteration')\n",
    "# ax[0].set_ylabel('discrepancy')\n",
    "# ax[1].set_xlabel('fitted')\n",
    "# ax[1].set_ylabel('true')\n",
    "# plt.tight_layout()\n",
    "# plt.show()"
   ]
  },
  {
   "cell_type": "code",
   "execution_count": null,
   "metadata": {},
   "outputs": [],
   "source": []
  },
  {
   "cell_type": "code",
   "execution_count": null,
   "metadata": {},
   "outputs": [],
   "source": []
  }
 ],
 "metadata": {
  "kernelspec": {
   "display_name": "Python 3",
   "language": "python",
   "name": "python3"
  },
  "language_info": {
   "codemirror_mode": {
    "name": "ipython",
    "version": 3
   },
   "file_extension": ".py",
   "mimetype": "text/x-python",
   "name": "python",
   "nbconvert_exporter": "python",
   "pygments_lexer": "ipython3",
   "version": "3.7.0"
  }
 },
 "nbformat": 4,
 "nbformat_minor": 2
}
